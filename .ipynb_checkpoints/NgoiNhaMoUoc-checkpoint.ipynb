{
 "cells": [
  {
   "cell_type": "code",
   "execution_count": 1,
   "id": "b802e324",
   "metadata": {},
   "outputs": [],
   "source": [
    "import turtle\n",
    "import my_module\n",
    "\n",
    "screen = turtle.Screen ()\n",
    "screen.setup (1200, 800)\n",
    "\n",
    "turtle.penup ()\n",
    "turtle.goto (-200, -200)\n",
    "turtle.pencolor (\"black\")\n",
    "turtle.pendown ()\n",
    "\n",
    "my_module.drawHouse (400, 200, 50)\n",
    "\n",
    "turtle.penup ()\n",
    "turtle.goto (-400, -200)\n",
    "turtle.pencolor (\"black\")\n",
    "turtle.pendown ()\n",
    "\n",
    "my_module.drawTree (330, 60, 150)\n",
    "\n",
    "turtle.penup ()\n",
    "turtle.goto (400, -300)\n",
    "turtle.pencolor (\"black\")\n",
    "turtle.pendown ()\n",
    "\n",
    "my_module.drawTree (450, 100, 200)\n",
    "\n",
    "turtle.hideturtle ()\n",
    "turtle.done ()\n",
    "\n"
   ]
  },
  {
   "cell_type": "code",
   "execution_count": null,
   "id": "3192f34e",
   "metadata": {},
   "outputs": [],
   "source": []
  },
  {
   "cell_type": "code",
   "execution_count": null,
   "id": "3f1510b8",
   "metadata": {},
   "outputs": [],
   "source": []
  }
 ],
 "metadata": {
  "kernelspec": {
   "display_name": "Python 3 (ipykernel)",
   "language": "python",
   "name": "python3"
  },
  "language_info": {
   "codemirror_mode": {
    "name": "ipython",
    "version": 3
   },
   "file_extension": ".py",
   "mimetype": "text/x-python",
   "name": "python",
   "nbconvert_exporter": "python",
   "pygments_lexer": "ipython3",
   "version": "3.9.7"
  }
 },
 "nbformat": 4,
 "nbformat_minor": 5
}
