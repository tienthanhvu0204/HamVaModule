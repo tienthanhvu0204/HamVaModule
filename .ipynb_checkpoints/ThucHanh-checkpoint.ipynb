{
 "cells": [
  {
   "cell_type": "code",
   "execution_count": null,
   "id": "f5d9cce6",
   "metadata": {},
   "outputs": [],
   "source": [
    "# Vẽ vòng tròn bằng hình vuông quay quanh tâm\n",
    "import turtle\n",
    "\n",
    "screen = turtle.Screen ()\n",
    "screen.setup (1000, 800)\n",
    "t = turtle.Turtle ()\n",
    "\n",
    "# Hàm vẽ hình vuông cạnh x, góc xoay angle sau khi vẽ xong\n",
    "def drawSquare (x, angle):\n",
    "    for i in range (4):\n",
    "        t.fd (x)\n",
    "        t.lt (90)\n",
    "    t.lt (angle)\n",
    "\n",
    "# Vẽ vòng tròn bằng cách vẽ hình vuông góc xoay angle lặp lại n lần\n",
    "n = 36\n",
    "for i in range (36):\n",
    "    drawSquare (100, 10)\n",
    "\n",
    "t.hideturtle ()\n",
    "turtle.done ()\n"
   ]
  },
  {
   "cell_type": "code",
   "execution_count": null,
   "id": "c909f86c",
   "metadata": {},
   "outputs": [],
   "source": []
  }
 ],
 "metadata": {
  "kernelspec": {
   "display_name": "Python 3 (ipykernel)",
   "language": "python",
   "name": "python3"
  },
  "language_info": {
   "codemirror_mode": {
    "name": "ipython",
    "version": 3
   },
   "file_extension": ".py",
   "mimetype": "text/x-python",
   "name": "python",
   "nbconvert_exporter": "python",
   "pygments_lexer": "ipython3",
   "version": "3.9.7"
  }
 },
 "nbformat": 4,
 "nbformat_minor": 5
}
