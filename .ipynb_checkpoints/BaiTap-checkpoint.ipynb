{
 "cells": [
  {
   "cell_type": "code",
   "execution_count": null,
   "id": "f33a32c1",
   "metadata": {},
   "outputs": [],
   "source": [
    "# Bài tập hàm đếm số ký tự trong chuỗi\n",
    "\n",
    "def countChars (text):\n",
    "    result = 0\n",
    "    for char in text:\n",
    "        result += 1\n",
    "    return result\n",
    "\n",
    "text = input (\"Your string: \")\n",
    "print (\"Length:\", countChars (text))\n"
   ]
  },
  {
   "cell_type": "code",
   "execution_count": 5,
   "id": "f1ab545f",
   "metadata": {},
   "outputs": [
    {
     "name": "stdout",
     "output_type": "stream",
     "text": [
      "Số a: 1\n",
      "Số b: 2\n",
      "Số c: 1\n",
      "(1, 1, 2)\n",
      "1 1 2\n",
      "1 2\n"
     ]
    }
   ],
   "source": [
    "# Bài tập sắp xếp thứ tự 3 số nguyên\n",
    "\n",
    "def sortTwo (num1, num2):\n",
    "    if num2 < num1:\n",
    "        temp = num1\n",
    "        num1 = num2\n",
    "        num2 = temp\n",
    "    return (num1, num2)\n",
    "\n",
    "def sortThree (num1, num2, num3):\n",
    "    num1, num2 = sortTwo (num1, num2)\n",
    "    num2, num3 = sortTwo (num2, num3)\n",
    "    num1, num2 = sortTwo (num1, num2)\n",
    "#     if num2 < num1:\n",
    "#         temp = num1\n",
    "#         num1 = num2\n",
    "#         num2 = temp\n",
    "#     if num3 < num2:\n",
    "#         temp = num2\n",
    "#         num2 = num3\n",
    "#         num3 = temp\n",
    "#     if num2 < num1:\n",
    "#         temp = num1\n",
    "#         num1 = num2\n",
    "#         num2 = temp    \n",
    "    return num1, num2, num3\n",
    "\n",
    "a = int (input (\"Số a: \",))\n",
    "b = int (input (\"Số b: \",))\n",
    "c = int (input (\"Số c: \",))\n",
    "print (sortThree (a, b, c))\n",
    "x, y, z = sortThree (a, b, c)\n",
    "# print (\"Thứ tự tăng dần của 3 số là:\", sortThree (a, b, c))\n",
    "# print (a, b, c)\n",
    "print (x, y, z)\n",
    "g, h = sortTwo (a, b)\n",
    "print (g,h)"
   ]
  },
  {
   "cell_type": "code",
   "execution_count": 21,
   "id": "f06d090c",
   "metadata": {},
   "outputs": [
    {
     "name": "stdout",
     "output_type": "stream",
     "text": [
      "Số a: 2\n",
      "Số b: 3\n",
      "Số c: 1\n",
      "1 2 3\n"
     ]
    }
   ],
   "source": [
    "def sortThree (num1, num2, num3):\n",
    "    if num2 < num1 and num2 < num3:\n",
    "        temp = num1\n",
    "        num1 = num2\n",
    "        num2 = temp\n",
    "    elif num3 < num1 and num3 < num2:\n",
    "        temp = num1\n",
    "        num1 = num3\n",
    "        num3 = temp\n",
    "    if num3 < num2:\n",
    "        temp = num2\n",
    "        num2 = num3\n",
    "        num3 = temp    \n",
    "    return (num1, num2, num3)\n",
    "\n",
    "a = input (\"Số a: \",)\n",
    "b = input (\"Số b: \",)\n",
    "c = input (\"Số c: \",)\n",
    "x, y, z = sortThree (a, b, c)\n",
    "# print (\"Thứ tự tăng dần của 3 số là:\", sortThree (a, b, c))\n",
    "# print (a, b, c)\n",
    "print (x, y, z)"
   ]
  },
  {
   "cell_type": "code",
   "execution_count": 32,
   "id": "fa5e122c",
   "metadata": {},
   "outputs": [
    {
     "name": "stdout",
     "output_type": "stream",
     "text": [
      "[0, 1, 2, 3, 3, 4, 5, 5, 6, 7, 8, 9, 10]\n",
      "0\n",
      "10\n"
     ]
    }
   ],
   "source": [
    "# sort một list các số nguyên\n",
    "def sortList (myList):\n",
    "    for i in range (len (myList)):\n",
    "        for j in range (len (myList) - i - 1):\n",
    "            if int (myList [j]) > int (myList [j + 1]):\n",
    "                tempmin = myList [j + 1]\n",
    "                tempmax = myList [j]\n",
    "#                 print (tempmin, tempmax)\n",
    "\n",
    "                if j == 0:   \n",
    "                    myList = [tempmin] + [tempmax] + myList [j + 2::]\n",
    "                elif j == len (myList) - 2:\n",
    "                    myList = myList [0:j:] + [tempmin] + [tempmax]\n",
    "                else:\n",
    "                    myList = myList [0:j:] + [tempmin] + [tempmax] + myList [j + 2::]\n",
    "                \n",
    "#                 print (tempmin, tempmax)\n",
    "#                 print (myList [0:j:])\n",
    "#                 print (myList [j + 2::])\n",
    "#                 print (myList)\n",
    "                \n",
    "    return myList\n",
    "\n",
    "def minNumber (list):\n",
    "    templist = sortList (list)\n",
    "    return templist [0]\n",
    "\n",
    "def maxNumber (list):\n",
    "    templist = sortList (list)\n",
    "    sortList (templist)\n",
    "    return templist [-1]\n",
    "\n",
    " \n",
    "myList = [10, 2, 3, 4, 9, 1, 6, 5, 7, 3, 5, 8, 0]\n",
    "\n",
    "\n",
    "print (sortList (myList))\n",
    "\n",
    "print (minNumber (myList))\n",
    "print (maxNumber (myList))"
   ]
  },
  {
   "cell_type": "code",
   "execution_count": null,
   "id": "07bfd141",
   "metadata": {},
   "outputs": [],
   "source": []
  }
 ],
 "metadata": {
  "kernelspec": {
   "display_name": "Python 3 (ipykernel)",
   "language": "python",
   "name": "python3"
  },
  "language_info": {
   "codemirror_mode": {
    "name": "ipython",
    "version": 3
   },
   "file_extension": ".py",
   "mimetype": "text/x-python",
   "name": "python",
   "nbconvert_exporter": "python",
   "pygments_lexer": "ipython3",
   "version": "3.9.7"
  }
 },
 "nbformat": 4,
 "nbformat_minor": 5
}
