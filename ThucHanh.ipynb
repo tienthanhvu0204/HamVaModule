{
 "cells": [
  {
   "cell_type": "code",
   "execution_count": null,
   "id": "7f5b63df",
   "metadata": {},
   "outputs": [],
   "source": [
    "# Vẽ vòng tròn bằng hình vuông quay quanh tâm\n",
    "import turtle\n",
    "\n",
    "screen = turtle.Screen ()\n",
    "screen.setup (1000, 800)\n",
    "t = turtle.Turtle ()\n",
    "t.speed (10)\n",
    "\n",
    "# Hàm vẽ hình vuông cạnh x, góc xoay angle sau khi vẽ xong\n",
    "def drawSquare (x, angle):\n",
    "    for i in range (4):\n",
    "        t.fd (x)\n",
    "        t.lt (90)\n",
    "    t.lt (angle)\n",
    "\n",
    "# Vẽ vòng tròn bằng cách vẽ hình vuông góc xoay angle lặp lại n lần\n",
    "n = 36\n",
    "for i in range (36):\n",
    "    drawSquare (100, 10)\n",
    "\n",
    "t.hideturtle ()\n",
    "turtle.done ()\n"
   ]
  },
  {
   "cell_type": "code",
   "execution_count": null,
   "id": "f8989dd3",
   "metadata": {},
   "outputs": [],
   "source": [
    "# Hàm loại bỏ số lớn nhất\n",
    "def removeLargest (numbers):\n",
    "    largest = 0\n",
    "    for number in numbers:\n",
    "        if largest < number:\n",
    "            largest = number\n",
    "    numbers.remove (largest)\n",
    "\n",
    "numbers = [12, 34, 56, 78, 34, 56, 45, 98, 13, 98, 89, 234, 233, 193]\n",
    "\n",
    "print (numbers)\n",
    "removeLargest (numbers)\n",
    "print (numbers)\n",
    "\n"
   ]
  },
  {
   "cell_type": "code",
   "execution_count": null,
   "id": "579b3df6",
   "metadata": {},
   "outputs": [],
   "source": [
    "# Hàm thêm trái cây yêu thích vào danh sách\n",
    "def addFruit (fruits, fruitToAdd):\n",
    "    fruits.append (fruitToAdd)\n",
    "    print ('fruits inside function', fruits)\n",
    "traicay = ['Táo', 'Nho', 'Chanh', 'Cam']\n",
    "print (id (traicay))\n",
    "add = input ('Thêm trái cây yêu thích là: ')\n",
    "print (id (add))\n",
    "addFruit (traicay, add)\n",
    "print (id (traicay))\n",
    "add = 'Xoài'\n",
    "print (id (add))\n",
    "addFruit (traicay, add)\n",
    "add = input ('Thêm trái cây yêu thích là: ')\n",
    "def addTraicay (fruits, fruitToAdd):\n",
    "    fruits += str  (fruitToAdd)\n",
    "addTraicay (traicay, add)\n",
    "print (traicay)\n",
    "print (id (add))\n"
   ]
  },
  {
   "cell_type": "code",
   "execution_count": null,
   "id": "6e04d9b0",
   "metadata": {},
   "outputs": [],
   "source": [
    "# Máy tính đơn giản\n",
    "def add (num1, num2):\n",
    "    return num1 + num2\n",
    "def subtract (num1, num2):\n",
    "    return num1 - num2\n",
    "def multiply (num1, num2):\n",
    "    return num1 * num2\n",
    "def divide (num1, num2):\n",
    "    return num1 / num2\n",
    "num1 = int (input ('Nhập số thứ 1: '))\n",
    "num2 = int (input ('Nhập số thứ 2: '))\n",
    "option = input ('Nhập toán (+, -, *, /): ')\n",
    "\n",
    "if option == \"+\":\n",
    "    result = add (num1, num2)\n",
    "elif option == \"-\":\n",
    "    result = subtract (num1, num2)\n",
    "elif option == \"*\":\n",
    "    result = multiply (num1, num2)\n",
    "else:\n",
    "    result = divide (num1, num2)\n",
    "\n",
    "print (result)"
   ]
  },
  {
   "cell_type": "code",
   "execution_count": 16,
   "id": "ba92d8ca",
   "metadata": {},
   "outputs": [
    {
     "name": "stdout",
     "output_type": "stream",
     "text": [
      "Chuỗi mẫu: abcdabcabcabc\n",
      "Chuỗi so sánh: abcabcabcabcd\n",
      "Yes\n"
     ]
    }
   ],
   "source": [
    "# Chuỗi ngọc, so sánh xem chuỗi ngọc thứ 2 nối thành vòng ngọc có giống với vòng ngọc mẫu cắt ra được chuỗi ngọc 1\n",
    "\n",
    "def soSanh (S, K):\n",
    "    __doc__ = 'S là chuỗi cắt từ vòng mẫu, K là chuỗi từ vòng cần so sánh.'\n",
    "    result = \"No\"\n",
    "    S = str.strip (S)\n",
    "    K = str.strip (K)\n",
    "    if S == K:\n",
    "        result = 'Yes'\n",
    "    elif len (S) == len (K):\n",
    "        for i in range (len (S)):\n",
    "            if S [0] == K [i]:\n",
    "                add = i\n",
    "                Km = K [add::] + K [:add:]\n",
    "                if S == Km:\n",
    "                    result = \"Yes\"\n",
    "    print (result)\n",
    "    \n",
    "S = input ('Chuỗi mẫu: ')\n",
    "K = input (\"Chuỗi so sánh: \")\n",
    "soSanh (S, K)\n",
    "\n",
    "    "
   ]
  },
  {
   "cell_type": "code",
   "execution_count": null,
   "id": "e302fe1b",
   "metadata": {},
   "outputs": [],
   "source": []
  },
  {
   "cell_type": "code",
   "execution_count": null,
   "id": "eb3e5131",
   "metadata": {},
   "outputs": [],
   "source": []
  }
 ],
 "metadata": {
  "kernelspec": {
   "display_name": "Python 3 (ipykernel)",
   "language": "python",
   "name": "python3"
  },
  "language_info": {
   "codemirror_mode": {
    "name": "ipython",
    "version": 3
   },
   "file_extension": ".py",
   "mimetype": "text/x-python",
   "name": "python",
   "nbconvert_exporter": "python",
   "pygments_lexer": "ipython3",
   "version": "3.9.7"
  }
 },
 "nbformat": 4,
 "nbformat_minor": 5
}
