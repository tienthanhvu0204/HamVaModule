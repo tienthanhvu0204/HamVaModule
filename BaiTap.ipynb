{
 "cells": [
  {
   "cell_type": "code",
   "execution_count": null,
   "id": "72a5dce8",
   "metadata": {},
   "outputs": [],
   "source": [
    "# Bài tập hàm đếm số ký tự trong chuỗi\n",
    "\n",
    "def countChars (text):\n",
    "    result = 0\n",
    "    for char in text:\n",
    "        result += 1\n",
    "    return result\n",
    "\n",
    "text = input (\"Your string: \")\n",
    "print (\"Length:\", countChars (text))\n"
   ]
  },
  {
   "cell_type": "code",
   "execution_count": 16,
   "id": "52dac873",
   "metadata": {},
   "outputs": [
    {
     "name": "stdout",
     "output_type": "stream",
     "text": [
      "Số a: 2\n",
      "Số b: 3\n",
      "Số c: 2\n",
      "2 2 3\n"
     ]
    }
   ],
   "source": [
    "# Bài tập sắp xếp thứ tự 3 số nguyên\n",
    "\n",
    "def sortTwo (num1, num2):\n",
    "    if num2 < num1:\n",
    "        temp = num1\n",
    "        num1 = num2\n",
    "        num2 = temp\n",
    "\n",
    "def sortThree (num1, num2, num3):\n",
    "    if num2 < num1:\n",
    "        temp = num1\n",
    "        num1 = num2\n",
    "        num2 = temp\n",
    "    if num3 < num2:\n",
    "        temp = num2\n",
    "        num2 = num3\n",
    "        num3 = temp\n",
    "    if num2 < num1:\n",
    "        temp = num1\n",
    "        num1 = num2\n",
    "        num2 = temp    \n",
    "    return num1, num2, num3\n",
    "\n",
    "a = input (\"Số a: \",)\n",
    "b = input (\"Số b: \",)\n",
    "c = input (\"Số c: \",)\n",
    "x, y, z = sortThree (a, b, c)\n",
    "# print (\"Thứ tự tăng dần của 3 số là:\", sortThree (a, b, c))\n",
    "# print (a, b, c)\n",
    "print (x, y, z)"
   ]
  },
  {
   "cell_type": "code",
   "execution_count": 21,
   "id": "edd6f9af",
   "metadata": {},
   "outputs": [
    {
     "name": "stdout",
     "output_type": "stream",
     "text": [
      "Số a: 2\n",
      "Số b: 3\n",
      "Số c: 1\n",
      "1 2 3\n"
     ]
    }
   ],
   "source": [
    "def sortThree (num1, num2, num3):\n",
    "    if num2 < num1 and num2 < num3:\n",
    "        temp = num1\n",
    "        num1 = num2\n",
    "        num2 = temp\n",
    "    elif num3 < num1 and num3 < num2:\n",
    "        temp = num1\n",
    "        num1 = num3\n",
    "        num3 = temp\n",
    "    if num3 < num2:\n",
    "        temp = num2\n",
    "        num2 = num3\n",
    "        num3 = temp    \n",
    "    return (num1, num2, num3)\n",
    "\n",
    "a = input (\"Số a: \",)\n",
    "b = input (\"Số b: \",)\n",
    "c = input (\"Số c: \",)\n",
    "x, y, z = sortThree (a, b, c)\n",
    "# print (\"Thứ tự tăng dần của 3 số là:\", sortThree (a, b, c))\n",
    "# print (a, b, c)\n",
    "print (x, y, z)"
   ]
  },
  {
   "cell_type": "code",
   "execution_count": 14,
   "id": "2ab4c547",
   "metadata": {},
   "outputs": [
    {
     "name": "stdout",
     "output_type": "stream",
     "text": [
      "[0, 1, 1, 2, 2, 2, 3, 4, 4, 5, 7, 8, 9, 10, 10]\n"
     ]
    }
   ],
   "source": [
    "# sort một list các số nguyên\n",
    "def sortList (myList):\n",
    "    for i in range (len (myList)):\n",
    "        for j in range (len (myList) - i - 1):\n",
    "            if int (myList [j]) > int (myList [j + 1]):\n",
    "                tempmin = myList [j + 1]\n",
    "                tempmax = myList [j]\n",
    "#                 print (tempmin, tempmax)\n",
    "\n",
    "                if j == 0:   \n",
    "                    myList = [tempmin] + [tempmax] + myList [j + 2::]\n",
    "                elif j == len (myList) - 2:\n",
    "                    myList = myList [0:j:] + [tempmin] + [tempmax]\n",
    "                else:\n",
    "                    myList = myList [0:j:] + [tempmin] + [tempmax] + myList [j + 2::]\n",
    "                \n",
    "#                 print (tempmin, tempmax)\n",
    "#                 print (myList [0:j:])\n",
    "#                 print (myList [j + 2::])\n",
    "#                 print (myList)\n",
    "                \n",
    "    return myList\n",
    "\n",
    "myList = [10, 5, 2, 3, 4, 0, 1, 2, 4, 8, 7, 9, 1, 2, 10]\n",
    "\n",
    "\n",
    "print (sortList (myList))"
   ]
  },
  {
   "cell_type": "code",
   "execution_count": null,
   "id": "2124430e",
   "metadata": {},
   "outputs": [],
   "source": []
  }
 ],
 "metadata": {
  "kernelspec": {
   "display_name": "Python 3 (ipykernel)",
   "language": "python",
   "name": "python3"
  },
  "language_info": {
   "codemirror_mode": {
    "name": "ipython",
    "version": 3
   },
   "file_extension": ".py",
   "mimetype": "text/x-python",
   "name": "python",
   "nbconvert_exporter": "python",
   "pygments_lexer": "ipython3",
   "version": "3.9.7"
  }
 },
 "nbformat": 4,
 "nbformat_minor": 5
}
